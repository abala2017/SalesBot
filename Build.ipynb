{
  "nbformat": 4,
  "nbformat_minor": 0,
  "metadata": {
    "colab": {
      "name": "Build",
      "provenance": [],
      "collapsed_sections": [],
      "include_colab_link": true
    },
    "kernelspec": {
      "name": "python3",
      "display_name": "Python 3"
    },
    "language_info": {
      "name": "python"
    }
  },
  "cells": [
    {
      "cell_type": "markdown",
      "metadata": {
        "id": "view-in-github",
        "colab_type": "text"
      },
      "source": [
        "<a href=\"https://colab.research.google.com/github/abala2017/SalesBot/blob/main/Build.ipynb\" target=\"_parent\"><img src=\"https://colab.research.google.com/assets/colab-badge.svg\" alt=\"Open In Colab\"/></a>"
      ]
    },
    {
      "cell_type": "code",
      "metadata": {
        "colab": {
          "base_uri": "https://localhost:8080/"
        },
        "id": "1Ejx0w0QJLbR",
        "outputId": "9e0f89b2-ec1f-465d-c3a8-34022bd91b52"
      },
      "source": [
        "pip install openai"
      ],
      "execution_count": null,
      "outputs": [
        {
          "output_type": "stream",
          "text": [
            "Requirement already satisfied: openai in /usr/local/lib/python3.7/dist-packages (0.6.2)\n",
            "Requirement already satisfied: requests>=2.20; python_version >= \"3.0\" in /usr/local/lib/python3.7/dist-packages (from openai) (2.23.0)\n",
            "Requirement already satisfied: tqdm in /usr/local/lib/python3.7/dist-packages (from openai) (4.41.1)\n",
            "Requirement already satisfied: idna<3,>=2.5 in /usr/local/lib/python3.7/dist-packages (from requests>=2.20; python_version >= \"3.0\"->openai) (2.10)\n",
            "Requirement already satisfied: certifi>=2017.4.17 in /usr/local/lib/python3.7/dist-packages (from requests>=2.20; python_version >= \"3.0\"->openai) (2020.12.5)\n",
            "Requirement already satisfied: chardet<4,>=3.0.2 in /usr/local/lib/python3.7/dist-packages (from requests>=2.20; python_version >= \"3.0\"->openai) (3.0.4)\n",
            "Requirement already satisfied: urllib3!=1.25.0,!=1.25.1,<1.26,>=1.21.1 in /usr/local/lib/python3.7/dist-packages (from requests>=2.20; python_version >= \"3.0\"->openai) (1.24.3)\n"
          ],
          "name": "stdout"
        }
      ]
    },
    {
      "cell_type": "code",
      "metadata": {
        "id": "amwroRohJUc7"
      },
      "source": [
        "import openai\n",
        "import tensorflow as tf\n",
        "import pandas as pd\n",
        "import random\n",
        "import numpy as np\n",
        "import tkinter as tk\n",
        "from tkinter import *\n",
        "from sklearn.model_selection import train_test_split"
      ],
      "execution_count": null,
      "outputs": []
    },
    {
      "cell_type": "code",
      "metadata": {
        "id": "JM0LJ60cJp15"
      },
      "source": [
        "def getPrices():\n",
        "  df = pd.read_csv(\"productData.csv\")\n",
        "  X = pd.get_dummies(df[\"type\"],prefix = \"type\")\n",
        "  X = pd.concat([X,pd.get_dummies(df[\"brand\"], prefix=\"brand\")],axis=1)\n",
        "  X = pd.concat([X,pd.get_dummies(df[\"season\"],prefix = \"season\")],axis=1)\n",
        "  Y = df[\"sales\"].apply(encodeY)\n",
        "  Y = pd.get_dummies(Y)\n",
        "  X_train, X_test, y_train, y_test = train_test_split(X, Y, test_size=0.2, random_state=42)\n",
        "  model = tf.keras.Sequential(\n",
        "      [\n",
        "       tf.keras.layers.Dense(64, input_dim = 12, activation='relu'),\n",
        "       tf.keras.layers.Dense(32, activation='relu'),\n",
        "       tf.keras.layers.Dense(4, activation='softmax')\n",
        "      ]\n",
        "      )\n",
        "  model.compile(optimizer='adam',loss='categorical_crossentropy',metrics=['accuracy'])\n",
        "  model.build()\n",
        "  _ = model.fit(x=X_train, y = y_train,epochs=50, validation_data=(X_test,y_test),verbose=0)\n",
        "  df = pd.read_csv(\"initialProductData.csv\")\n",
        "  X = pd.get_dummies(df[\"type\"],prefix = \"type\")\n",
        "  X = pd.concat([X,pd.get_dummies(df[\"brand\"], prefix=\"brand\")],axis=1)\n",
        "  X[\"Spring\"] = 0\n",
        "  X[\"Summer\"] = 0\n",
        "  X[\"Fall\"] = 0\n",
        "  X[\"Winter\"] = 1\n",
        "  Y = model.predict(X)\n",
        "  Y = np.argmax(Y,axis=1)\n",
        "  f = open(\"botProductData.jsonl\",\"w\")\n",
        "  for i in df.index:\n",
        "    discount = 1\n",
        "    if(Y[i] == 3):\n",
        "      discount = 1\n",
        "    if(Y[i] == 2):\n",
        "      discount = .8\n",
        "    if(Y[i] == 1):\n",
        "      discount = .7\n",
        "    if(Y[i] == 0):\n",
        "      discount = .6\n",
        "    f.write('{\"text\":\"product: '+str(df.loc[i,\"product\"])+', price: ' +str(df.loc[i,\"price\"] * discount)+', colors : '+ df.loc[i,\"colors\"] +', description : ' + df.loc[i,\"desciption\"]+'\"} \\n')\n",
        "  f.close()"
      ],
      "execution_count": null,
      "outputs": []
    },
    {
      "cell_type": "code",
      "metadata": {
        "id": "7GnL9QifKrDx"
      },
      "source": [
        "def encodeY(val):\n",
        "  if(val < 2000):\n",
        "    return 0\n",
        "  if(val >= 2000 and val < 4000):\n",
        "    return 0\n",
        "  if(val >= 4000 and val < 6000):\n",
        "    return 1\n",
        "  if(val >= 6000 and val < 8000):\n",
        "    return 1\n",
        "  if(val >= 8000 and val < 10000):\n",
        "    return 2\n",
        "  if(val >= 10000 and val < 12000):\n",
        "    return 2\n",
        "  if(val >= 12000 and val < 14000):\n",
        "    return 2\n",
        "  if(val >= 14000 and val < 16000):\n",
        "    return 3\n",
        "  if(val >= 16000 and val < 18000):\n",
        "    return 3\n",
        "  if(val >= 18000):\n",
        "    return 3"
      ],
      "execution_count": null,
      "outputs": []
    },
    {
      "cell_type": "code",
      "metadata": {
        "id": "OIGB825tL5U7"
      },
      "source": [
        "def salesBot():\n",
        "  openai.api_key = \"sk-0alrPzzVbaB1jFTsA2T2LqgXMnA2W9pC4jN8ukaE\"\n",
        "  response = openai.File.create(\n",
        "  file=open(\"/content/botProductData.jsonl\"),\n",
        "  purpose='answers'\n",
        "  )\n",
        "  inputStr = \"\"\n",
        "  while(inputStr != \"thanks\" and inputStr != \"Thanks\"):\n",
        "    inputStr = input(\"How can I help you? \")\n",
        "    try:\n",
        "      ans = openai.Answer.create(\n",
        "          search_model=\"ada\", \n",
        "          model=\"curie\",\n",
        "          question=inputStr, \n",
        "          file = response.id,\n",
        "          ##documents = [],\n",
        "          examples_context=\"In 2017, U.S. life expectancy was 78.6 years.\", \n",
        "          examples=[[\"What is human life expectancy in the United States?\",\"78 years.\"]],\n",
        "          max_tokens=5,\n",
        "          stop=[\"\\n\", \"<|endoftext|>\"],\n",
        "          )\n",
        "    except:\n",
        "      ans = openai.Answer.create(\n",
        "          search_model=\"ada\", \n",
        "          model=\"curie\",\n",
        "          question=inputStr, \n",
        "          ##file = response.id,\n",
        "          documents = [],\n",
        "          examples_context=\"In 2017, U.S. life expectancy was 78.6 years.\", \n",
        "          examples=[[\"What is human life expectancy in the United States?\",\"78 years.\"]],\n",
        "          max_tokens=5,\n",
        "          stop=[\"\\n\", \"<|endoftext|>\"],\n",
        "          )\n",
        "    print(ans.answers[0])"
      ],
      "execution_count": null,
      "outputs": []
    },
    {
      "cell_type": "markdown",
      "metadata": {
        "id": "iMBp4LjJYh2k"
      },
      "source": [
        "Main Function"
      ]
    },
    {
      "cell_type": "code",
      "metadata": {
        "id": "Cb1Z2SqeYjpq"
      },
      "source": [
        "getPrices()"
      ],
      "execution_count": null,
      "outputs": []
    },
    {
      "cell_type": "code",
      "metadata": {
        "id": "E0zHWSafYkNU",
        "colab": {
          "base_uri": "https://localhost:8080/"
        },
        "outputId": "9601ece7-2e9d-4700-b063-8e273dcbf4c2"
      },
      "source": [
        "salesBot()"
      ],
      "execution_count": null,
      "outputs": [
        {
          "output_type": "stream",
          "text": [
            "Upload progress: 100%|██████████| 2.41k/2.41k [00:00<00:00, 3.94kit/s]\n"
          ],
          "name": "stderr"
        }
      ]
    }
  ]
}